{
  "cells": [
    {
      "cell_type": "markdown",
      "metadata": {
        "id": "Ef14282v6exD"
      },
      "source": [
        "### **TEMG 4940C - Machine Learning Assignment Guideline**\n",
        "\n",
        "---\n",
        "\n",
        "\n",
        "\n",
        "This document provides a guideline for completing a machine learning assignment. The assignment consists of 6 part, each corresponding to each steps with reference to Tutorial’s PPT:\n",
        "\n",
        "*Remarks: There are no restrictions in terms of what specific libraries or programming language to use, so feel free to be creative or search online for inspirations.*\n",
        "\n",
        "\n",
        "---\n",
        "\n",
        "\n"
      ]
    },
    {
      "cell_type": "markdown",
      "metadata": {
        "id": "GtJplZmE6iRC"
      },
      "source": [
        "#### **Submission Criteria**\n",
        "Your submission should include the following:\n",
        "1. A public git repository with your machine learning code and a brief README file describing how to run it.\n",
        "   \n",
        "   a. README file should include the version of python & common libraries used during the development\n",
        "   \n",
        "   b. You are **STRONGLY RECOMMENDED** to comment your code, both for readability & to develop good collaboration habits in dev\n",
        "   \n",
        "   \n",
        "2. A link to your deployed dashboard (if hosted)\n",
        "\n",
        "---\n",
        "\n"
      ]
    },
    {
      "attachments": {},
      "cell_type": "markdown",
      "metadata": {
        "id": "NIxSf8yE6lU2"
      },
      "source": [
        "**Name**: TONG, Tsun Man\n",
        "\n",
        "**Student ID**: 20851819"
      ]
    },
    {
      "cell_type": "markdown",
      "metadata": {
        "id": "i_IXvCZPuK_3"
      },
      "source": [
        "#### **Dataset Introduction**\n",
        "Customer personality analysis is a thorough examination of a company's ideal clients. It makes it simpler for businesses to adapt products in response to the unique wants, habits, and concerns of various consumer types.\n",
        "\n",
        "Consumer personality analysis aids a corporation in tailoring its offering to its target market from various consumer categories. For instance, a firm can assess which customer segment is most likely to purchase the product and then promote the product exclusively to that specific segment rather than investing money to market a new product to every consumer in the database of the company.\n",
        "\n",
        "\n",
        "---\n",
        "\n",
        "**Attributes:**\n",
        "\n",
        "*Part 1. People*\n",
        "- ID: Customer's unique identifier\n",
        "- Year_Birth: Customer's birth year\n",
        "- Education: Customer's education level\n",
        "- Marital_Status: Customer's marital status\n",
        "- Income: Customer's yearly household income\n",
        "- Kidhome: Number of children in customer's household\n",
        "- Teenhome: Number of teenagers in customer's household\n",
        "- Dt_Customer: Date of customer's enrollment with the company\n",
        "- Recency: Number of days since customer's last purchase\n",
        "- Complain: 1 if the customer complained in the last 2 years, 0 otherwise\n",
        "\n",
        "\n",
        "*Part 2. Products*\n",
        "- MntWines: Amount spent on wine in last 2 years\n",
        "- MntFruits: Amount spent on fruits in last 2 years\n",
        "- MntMeatProducts: Amount spent on meat in last 2 years\n",
        "- MntFishProducts: Amount spent on fish in last 2 years\n",
        "- MntSweetProducts: Amount spent on sweets in last 2 years\n",
        "- MntGoldProds: Amount spent on gold in last 2 years\n",
        "\n",
        "\n",
        "*Part 3.Promotion*\n",
        "- NumDealsPurchases: Number of purchases made with a discount\n",
        "- AcceptedCmp1: 1 if customer accepted the offer in the 1st campaign, 0 otherwise\n",
        "- AcceptedCmp2: 1 if customer accepted the offer in the 2nd campaign, 0 otherwise\n",
        "- AcceptedCmp3: 1 if customer accepted the offer in the 3rd campaign, 0 otherwise\n",
        "- AcceptedCmp4: 1 if customer accepted the offer in the 4th campaign, 0 otherwise\n",
        "- AcceptedCmp5: 1 if customer accepted the offer in the 5th campaign, 0 otherwise\n",
        "- Response: 1 if customer accepted the offer in the last campaign, 0 otherwise\n",
        "\n",
        "\n",
        "*Part 4. Place*\n",
        "- NumWebPurchases: Number of purchases made through the company’s website\n",
        "- NumCatalogPurchases: Number of purchases made using a catalogue\n",
        "- NumStorePurchases: Number of purchases made directly in stores\n",
        "- NumWebVisitsMonth: Number of visits to company’s website in the last month\n",
        "\n",
        "-------\n",
        "**Ultimate Goal:**\n",
        "\n",
        "With the Datasets aforementioned, evaluated the likelihood that customer would accepted offers in Marketing Campaign\n",
        "\n",
        "**[Prediction Value]: Y =AcceptedCmp1 + cceptedCmp2 + AcceptedCmp3 + AcceptedCmp4 + AcceptedCmp5 + Response**"
      ]
    },
    {
      "cell_type": "markdown",
      "metadata": {
        "id": "QD3T7SsG6n3L"
      },
      "source": [
        "#### **Step 0. Loading the Data from File Path**\n",
        "- Download the dataset from Canvas\n",
        "- Undergo Preliminary Analysis\n",
        "\n"
      ]
    },
    {
      "cell_type": "code",
      "execution_count": 1,
      "metadata": {
        "id": "fNZ8_deu6pUi"
      },
      "outputs": [],
      "source": [
        "#Importing Relevant Libraries\n",
        "import numpy as np\n",
        "import pandas as pd\n",
        "import matplotlib.pyplot as plt\n",
        "import seaborn as sns\n",
        "import scipy.stats as stats"
      ]
    },
    {
      "cell_type": "code",
      "execution_count": 2,
      "metadata": {
        "colab": {
          "base_uri": "https://localhost:8080/",
          "height": 473
        },
        "id": "ujVqGRy_6qjP",
        "outputId": "1baa80bf-1e9e-4c9b-9162-716defbdec35"
      },
      "outputs": [
        {
          "name": "stdout",
          "output_type": "stream",
          "text": [
            "Number of datapoints: 2240\n"
          ]
        },
        {
          "data": {
            "text/html": [
              "<div>\n",
              "<style scoped>\n",
              "    .dataframe tbody tr th:only-of-type {\n",
              "        vertical-align: middle;\n",
              "    }\n",
              "\n",
              "    .dataframe tbody tr th {\n",
              "        vertical-align: top;\n",
              "    }\n",
              "\n",
              "    .dataframe thead th {\n",
              "        text-align: right;\n",
              "    }\n",
              "</style>\n",
              "<table border=\"1\" class=\"dataframe\">\n",
              "  <thead>\n",
              "    <tr style=\"text-align: right;\">\n",
              "      <th></th>\n",
              "      <th>ID</th>\n",
              "      <th>Year_Birth</th>\n",
              "      <th>Education</th>\n",
              "      <th>Marital_Status</th>\n",
              "      <th>Income</th>\n",
              "      <th>Kidhome</th>\n",
              "      <th>Teenhome</th>\n",
              "      <th>Dt_Customer</th>\n",
              "      <th>Recency</th>\n",
              "      <th>MntWines</th>\n",
              "      <th>...</th>\n",
              "      <th>NumWebVisitsMonth</th>\n",
              "      <th>AcceptedCmp3</th>\n",
              "      <th>AcceptedCmp4</th>\n",
              "      <th>AcceptedCmp5</th>\n",
              "      <th>AcceptedCmp1</th>\n",
              "      <th>AcceptedCmp2</th>\n",
              "      <th>Complain</th>\n",
              "      <th>Z_CostContact</th>\n",
              "      <th>Z_Revenue</th>\n",
              "      <th>Response</th>\n",
              "    </tr>\n",
              "  </thead>\n",
              "  <tbody>\n",
              "    <tr>\n",
              "      <th>0</th>\n",
              "      <td>5524</td>\n",
              "      <td>1957</td>\n",
              "      <td>Graduation</td>\n",
              "      <td>Single</td>\n",
              "      <td>58138.0</td>\n",
              "      <td>0</td>\n",
              "      <td>0</td>\n",
              "      <td>04-09-2012</td>\n",
              "      <td>58</td>\n",
              "      <td>635</td>\n",
              "      <td>...</td>\n",
              "      <td>7</td>\n",
              "      <td>0</td>\n",
              "      <td>0</td>\n",
              "      <td>0</td>\n",
              "      <td>0</td>\n",
              "      <td>0</td>\n",
              "      <td>0</td>\n",
              "      <td>3</td>\n",
              "      <td>11</td>\n",
              "      <td>1</td>\n",
              "    </tr>\n",
              "    <tr>\n",
              "      <th>1</th>\n",
              "      <td>2174</td>\n",
              "      <td>1954</td>\n",
              "      <td>Graduation</td>\n",
              "      <td>Single</td>\n",
              "      <td>46344.0</td>\n",
              "      <td>1</td>\n",
              "      <td>1</td>\n",
              "      <td>08-03-2014</td>\n",
              "      <td>38</td>\n",
              "      <td>11</td>\n",
              "      <td>...</td>\n",
              "      <td>5</td>\n",
              "      <td>0</td>\n",
              "      <td>0</td>\n",
              "      <td>0</td>\n",
              "      <td>0</td>\n",
              "      <td>0</td>\n",
              "      <td>0</td>\n",
              "      <td>3</td>\n",
              "      <td>11</td>\n",
              "      <td>0</td>\n",
              "    </tr>\n",
              "    <tr>\n",
              "      <th>2</th>\n",
              "      <td>4141</td>\n",
              "      <td>1965</td>\n",
              "      <td>Graduation</td>\n",
              "      <td>Together</td>\n",
              "      <td>71613.0</td>\n",
              "      <td>0</td>\n",
              "      <td>0</td>\n",
              "      <td>21-08-2013</td>\n",
              "      <td>26</td>\n",
              "      <td>426</td>\n",
              "      <td>...</td>\n",
              "      <td>4</td>\n",
              "      <td>0</td>\n",
              "      <td>0</td>\n",
              "      <td>0</td>\n",
              "      <td>0</td>\n",
              "      <td>0</td>\n",
              "      <td>0</td>\n",
              "      <td>3</td>\n",
              "      <td>11</td>\n",
              "      <td>0</td>\n",
              "    </tr>\n",
              "    <tr>\n",
              "      <th>3</th>\n",
              "      <td>6182</td>\n",
              "      <td>1984</td>\n",
              "      <td>Graduation</td>\n",
              "      <td>Together</td>\n",
              "      <td>26646.0</td>\n",
              "      <td>1</td>\n",
              "      <td>0</td>\n",
              "      <td>10-02-2014</td>\n",
              "      <td>26</td>\n",
              "      <td>11</td>\n",
              "      <td>...</td>\n",
              "      <td>6</td>\n",
              "      <td>0</td>\n",
              "      <td>0</td>\n",
              "      <td>0</td>\n",
              "      <td>0</td>\n",
              "      <td>0</td>\n",
              "      <td>0</td>\n",
              "      <td>3</td>\n",
              "      <td>11</td>\n",
              "      <td>0</td>\n",
              "    </tr>\n",
              "    <tr>\n",
              "      <th>4</th>\n",
              "      <td>5324</td>\n",
              "      <td>1981</td>\n",
              "      <td>PhD</td>\n",
              "      <td>Married</td>\n",
              "      <td>58293.0</td>\n",
              "      <td>1</td>\n",
              "      <td>0</td>\n",
              "      <td>19-01-2014</td>\n",
              "      <td>94</td>\n",
              "      <td>173</td>\n",
              "      <td>...</td>\n",
              "      <td>5</td>\n",
              "      <td>0</td>\n",
              "      <td>0</td>\n",
              "      <td>0</td>\n",
              "      <td>0</td>\n",
              "      <td>0</td>\n",
              "      <td>0</td>\n",
              "      <td>3</td>\n",
              "      <td>11</td>\n",
              "      <td>0</td>\n",
              "    </tr>\n",
              "    <tr>\n",
              "      <th>5</th>\n",
              "      <td>7446</td>\n",
              "      <td>1967</td>\n",
              "      <td>Master</td>\n",
              "      <td>Together</td>\n",
              "      <td>62513.0</td>\n",
              "      <td>0</td>\n",
              "      <td>1</td>\n",
              "      <td>09-09-2013</td>\n",
              "      <td>16</td>\n",
              "      <td>520</td>\n",
              "      <td>...</td>\n",
              "      <td>6</td>\n",
              "      <td>0</td>\n",
              "      <td>0</td>\n",
              "      <td>0</td>\n",
              "      <td>0</td>\n",
              "      <td>0</td>\n",
              "      <td>0</td>\n",
              "      <td>3</td>\n",
              "      <td>11</td>\n",
              "      <td>0</td>\n",
              "    </tr>\n",
              "    <tr>\n",
              "      <th>6</th>\n",
              "      <td>965</td>\n",
              "      <td>1971</td>\n",
              "      <td>Graduation</td>\n",
              "      <td>Divorced</td>\n",
              "      <td>55635.0</td>\n",
              "      <td>0</td>\n",
              "      <td>1</td>\n",
              "      <td>13-11-2012</td>\n",
              "      <td>34</td>\n",
              "      <td>235</td>\n",
              "      <td>...</td>\n",
              "      <td>6</td>\n",
              "      <td>0</td>\n",
              "      <td>0</td>\n",
              "      <td>0</td>\n",
              "      <td>0</td>\n",
              "      <td>0</td>\n",
              "      <td>0</td>\n",
              "      <td>3</td>\n",
              "      <td>11</td>\n",
              "      <td>0</td>\n",
              "    </tr>\n",
              "    <tr>\n",
              "      <th>7</th>\n",
              "      <td>6177</td>\n",
              "      <td>1985</td>\n",
              "      <td>PhD</td>\n",
              "      <td>Married</td>\n",
              "      <td>33454.0</td>\n",
              "      <td>1</td>\n",
              "      <td>0</td>\n",
              "      <td>08-05-2013</td>\n",
              "      <td>32</td>\n",
              "      <td>76</td>\n",
              "      <td>...</td>\n",
              "      <td>8</td>\n",
              "      <td>0</td>\n",
              "      <td>0</td>\n",
              "      <td>0</td>\n",
              "      <td>0</td>\n",
              "      <td>0</td>\n",
              "      <td>0</td>\n",
              "      <td>3</td>\n",
              "      <td>11</td>\n",
              "      <td>0</td>\n",
              "    </tr>\n",
              "    <tr>\n",
              "      <th>8</th>\n",
              "      <td>4855</td>\n",
              "      <td>1974</td>\n",
              "      <td>PhD</td>\n",
              "      <td>Together</td>\n",
              "      <td>30351.0</td>\n",
              "      <td>1</td>\n",
              "      <td>0</td>\n",
              "      <td>06-06-2013</td>\n",
              "      <td>19</td>\n",
              "      <td>14</td>\n",
              "      <td>...</td>\n",
              "      <td>9</td>\n",
              "      <td>0</td>\n",
              "      <td>0</td>\n",
              "      <td>0</td>\n",
              "      <td>0</td>\n",
              "      <td>0</td>\n",
              "      <td>0</td>\n",
              "      <td>3</td>\n",
              "      <td>11</td>\n",
              "      <td>1</td>\n",
              "    </tr>\n",
              "    <tr>\n",
              "      <th>9</th>\n",
              "      <td>5899</td>\n",
              "      <td>1950</td>\n",
              "      <td>PhD</td>\n",
              "      <td>Together</td>\n",
              "      <td>5648.0</td>\n",
              "      <td>1</td>\n",
              "      <td>1</td>\n",
              "      <td>13-03-2014</td>\n",
              "      <td>68</td>\n",
              "      <td>28</td>\n",
              "      <td>...</td>\n",
              "      <td>20</td>\n",
              "      <td>1</td>\n",
              "      <td>0</td>\n",
              "      <td>0</td>\n",
              "      <td>0</td>\n",
              "      <td>0</td>\n",
              "      <td>0</td>\n",
              "      <td>3</td>\n",
              "      <td>11</td>\n",
              "      <td>0</td>\n",
              "    </tr>\n",
              "  </tbody>\n",
              "</table>\n",
              "<p>10 rows × 29 columns</p>\n",
              "</div>"
            ],
            "text/plain": [
              "     ID  Year_Birth   Education Marital_Status   Income  Kidhome  Teenhome  \\\n",
              "0  5524        1957  Graduation         Single  58138.0        0         0   \n",
              "1  2174        1954  Graduation         Single  46344.0        1         1   \n",
              "2  4141        1965  Graduation       Together  71613.0        0         0   \n",
              "3  6182        1984  Graduation       Together  26646.0        1         0   \n",
              "4  5324        1981         PhD        Married  58293.0        1         0   \n",
              "5  7446        1967      Master       Together  62513.0        0         1   \n",
              "6   965        1971  Graduation       Divorced  55635.0        0         1   \n",
              "7  6177        1985         PhD        Married  33454.0        1         0   \n",
              "8  4855        1974         PhD       Together  30351.0        1         0   \n",
              "9  5899        1950         PhD       Together   5648.0        1         1   \n",
              "\n",
              "  Dt_Customer  Recency  MntWines  ...  NumWebVisitsMonth  AcceptedCmp3  \\\n",
              "0  04-09-2012       58       635  ...                  7             0   \n",
              "1  08-03-2014       38        11  ...                  5             0   \n",
              "2  21-08-2013       26       426  ...                  4             0   \n",
              "3  10-02-2014       26        11  ...                  6             0   \n",
              "4  19-01-2014       94       173  ...                  5             0   \n",
              "5  09-09-2013       16       520  ...                  6             0   \n",
              "6  13-11-2012       34       235  ...                  6             0   \n",
              "7  08-05-2013       32        76  ...                  8             0   \n",
              "8  06-06-2013       19        14  ...                  9             0   \n",
              "9  13-03-2014       68        28  ...                 20             1   \n",
              "\n",
              "   AcceptedCmp4  AcceptedCmp5  AcceptedCmp1  AcceptedCmp2  Complain  \\\n",
              "0             0             0             0             0         0   \n",
              "1             0             0             0             0         0   \n",
              "2             0             0             0             0         0   \n",
              "3             0             0             0             0         0   \n",
              "4             0             0             0             0         0   \n",
              "5             0             0             0             0         0   \n",
              "6             0             0             0             0         0   \n",
              "7             0             0             0             0         0   \n",
              "8             0             0             0             0         0   \n",
              "9             0             0             0             0         0   \n",
              "\n",
              "   Z_CostContact  Z_Revenue  Response  \n",
              "0              3         11         1  \n",
              "1              3         11         0  \n",
              "2              3         11         0  \n",
              "3              3         11         0  \n",
              "4              3         11         0  \n",
              "5              3         11         0  \n",
              "6              3         11         0  \n",
              "7              3         11         0  \n",
              "8              3         11         1  \n",
              "9              3         11         0  \n",
              "\n",
              "[10 rows x 29 columns]"
            ]
          },
          "execution_count": 2,
          "metadata": {},
          "output_type": "execute_result"
        }
      ],
      "source": [
        "#Loading the Dataset\n",
        "data = pd.read_csv(\"TEMG4940C - Assignment Dataset.csv\", sep=\"\\t\")\n",
        "print(\"Number of datapoints:\", len(data)) # Show number of Data Rows in Dataset\n",
        "data.head(10) # Print Top 10 Rows of the dataset for preview"
      ]
    },
    {
      "cell_type": "code",
      "execution_count": 3,
      "metadata": {
        "colab": {
          "base_uri": "https://localhost:8080/",
          "height": 1000
        },
        "id": "Zh8UMR7s6tXn",
        "outputId": "68af990d-789a-4d55-c988-f0759ddee5c1"
      },
      "outputs": [
        {
          "name": "stdout",
          "output_type": "stream",
          "text": [
            "<class 'pandas.core.frame.DataFrame'>\n",
            "RangeIndex: 2240 entries, 0 to 2239\n",
            "Data columns (total 29 columns):\n",
            " #   Column               Non-Null Count  Dtype  \n",
            "---  ------               --------------  -----  \n",
            " 0   ID                   2240 non-null   int64  \n",
            " 1   Year_Birth           2240 non-null   int64  \n",
            " 2   Education            2240 non-null   object \n",
            " 3   Marital_Status       2240 non-null   object \n",
            " 4   Income               2216 non-null   float64\n",
            " 5   Kidhome              2240 non-null   int64  \n",
            " 6   Teenhome             2240 non-null   int64  \n",
            " 7   Dt_Customer          2240 non-null   object \n",
            " 8   Recency              2240 non-null   int64  \n",
            " 9   MntWines             2240 non-null   int64  \n",
            " 10  MntFruits            2240 non-null   int64  \n",
            " 11  MntMeatProducts      2240 non-null   int64  \n",
            " 12  MntFishProducts      2240 non-null   int64  \n",
            " 13  MntSweetProducts     2240 non-null   int64  \n",
            " 14  MntGoldProds         2240 non-null   int64  \n",
            " 15  NumDealsPurchases    2240 non-null   int64  \n",
            " 16  NumWebPurchases      2240 non-null   int64  \n",
            " 17  NumCatalogPurchases  2240 non-null   int64  \n",
            " 18  NumStorePurchases    2240 non-null   int64  \n",
            " 19  NumWebVisitsMonth    2240 non-null   int64  \n",
            " 20  AcceptedCmp3         2240 non-null   int64  \n",
            " 21  AcceptedCmp4         2240 non-null   int64  \n",
            " 22  AcceptedCmp5         2240 non-null   int64  \n",
            " 23  AcceptedCmp1         2240 non-null   int64  \n",
            " 24  AcceptedCmp2         2240 non-null   int64  \n",
            " 25  Complain             2240 non-null   int64  \n",
            " 26  Z_CostContact        2240 non-null   int64  \n",
            " 27  Z_Revenue            2240 non-null   int64  \n",
            " 28  Response             2240 non-null   int64  \n",
            "dtypes: float64(1), int64(25), object(3)\n",
            "memory usage: 507.6+ KB\n"
          ]
        },
        {
          "data": {
            "text/html": [
              "<div>\n",
              "<style scoped>\n",
              "    .dataframe tbody tr th:only-of-type {\n",
              "        vertical-align: middle;\n",
              "    }\n",
              "\n",
              "    .dataframe tbody tr th {\n",
              "        vertical-align: top;\n",
              "    }\n",
              "\n",
              "    .dataframe thead th {\n",
              "        text-align: right;\n",
              "    }\n",
              "</style>\n",
              "<table border=\"1\" class=\"dataframe\">\n",
              "  <thead>\n",
              "    <tr style=\"text-align: right;\">\n",
              "      <th></th>\n",
              "      <th>ID</th>\n",
              "      <th>Year_Birth</th>\n",
              "      <th>Income</th>\n",
              "      <th>Kidhome</th>\n",
              "      <th>Teenhome</th>\n",
              "      <th>Recency</th>\n",
              "      <th>MntWines</th>\n",
              "      <th>MntFruits</th>\n",
              "      <th>MntMeatProducts</th>\n",
              "      <th>MntFishProducts</th>\n",
              "      <th>...</th>\n",
              "      <th>NumWebVisitsMonth</th>\n",
              "      <th>AcceptedCmp3</th>\n",
              "      <th>AcceptedCmp4</th>\n",
              "      <th>AcceptedCmp5</th>\n",
              "      <th>AcceptedCmp1</th>\n",
              "      <th>AcceptedCmp2</th>\n",
              "      <th>Complain</th>\n",
              "      <th>Z_CostContact</th>\n",
              "      <th>Z_Revenue</th>\n",
              "      <th>Response</th>\n",
              "    </tr>\n",
              "  </thead>\n",
              "  <tbody>\n",
              "    <tr>\n",
              "      <th>count</th>\n",
              "      <td>2240.000000</td>\n",
              "      <td>2240.000000</td>\n",
              "      <td>2216.000000</td>\n",
              "      <td>2240.000000</td>\n",
              "      <td>2240.000000</td>\n",
              "      <td>2240.000000</td>\n",
              "      <td>2240.000000</td>\n",
              "      <td>2240.000000</td>\n",
              "      <td>2240.000000</td>\n",
              "      <td>2240.000000</td>\n",
              "      <td>...</td>\n",
              "      <td>2240.000000</td>\n",
              "      <td>2240.000000</td>\n",
              "      <td>2240.000000</td>\n",
              "      <td>2240.000000</td>\n",
              "      <td>2240.000000</td>\n",
              "      <td>2240.000000</td>\n",
              "      <td>2240.000000</td>\n",
              "      <td>2240.0</td>\n",
              "      <td>2240.0</td>\n",
              "      <td>2240.000000</td>\n",
              "    </tr>\n",
              "    <tr>\n",
              "      <th>mean</th>\n",
              "      <td>5592.159821</td>\n",
              "      <td>1968.805804</td>\n",
              "      <td>52247.251354</td>\n",
              "      <td>0.444196</td>\n",
              "      <td>0.506250</td>\n",
              "      <td>49.109375</td>\n",
              "      <td>303.935714</td>\n",
              "      <td>26.302232</td>\n",
              "      <td>166.950000</td>\n",
              "      <td>37.525446</td>\n",
              "      <td>...</td>\n",
              "      <td>5.316518</td>\n",
              "      <td>0.072768</td>\n",
              "      <td>0.074554</td>\n",
              "      <td>0.072768</td>\n",
              "      <td>0.064286</td>\n",
              "      <td>0.013393</td>\n",
              "      <td>0.009375</td>\n",
              "      <td>3.0</td>\n",
              "      <td>11.0</td>\n",
              "      <td>0.149107</td>\n",
              "    </tr>\n",
              "    <tr>\n",
              "      <th>std</th>\n",
              "      <td>3246.662198</td>\n",
              "      <td>11.984069</td>\n",
              "      <td>25173.076661</td>\n",
              "      <td>0.538398</td>\n",
              "      <td>0.544538</td>\n",
              "      <td>28.962453</td>\n",
              "      <td>336.597393</td>\n",
              "      <td>39.773434</td>\n",
              "      <td>225.715373</td>\n",
              "      <td>54.628979</td>\n",
              "      <td>...</td>\n",
              "      <td>2.426645</td>\n",
              "      <td>0.259813</td>\n",
              "      <td>0.262728</td>\n",
              "      <td>0.259813</td>\n",
              "      <td>0.245316</td>\n",
              "      <td>0.114976</td>\n",
              "      <td>0.096391</td>\n",
              "      <td>0.0</td>\n",
              "      <td>0.0</td>\n",
              "      <td>0.356274</td>\n",
              "    </tr>\n",
              "    <tr>\n",
              "      <th>min</th>\n",
              "      <td>0.000000</td>\n",
              "      <td>1893.000000</td>\n",
              "      <td>1730.000000</td>\n",
              "      <td>0.000000</td>\n",
              "      <td>0.000000</td>\n",
              "      <td>0.000000</td>\n",
              "      <td>0.000000</td>\n",
              "      <td>0.000000</td>\n",
              "      <td>0.000000</td>\n",
              "      <td>0.000000</td>\n",
              "      <td>...</td>\n",
              "      <td>0.000000</td>\n",
              "      <td>0.000000</td>\n",
              "      <td>0.000000</td>\n",
              "      <td>0.000000</td>\n",
              "      <td>0.000000</td>\n",
              "      <td>0.000000</td>\n",
              "      <td>0.000000</td>\n",
              "      <td>3.0</td>\n",
              "      <td>11.0</td>\n",
              "      <td>0.000000</td>\n",
              "    </tr>\n",
              "    <tr>\n",
              "      <th>25%</th>\n",
              "      <td>2828.250000</td>\n",
              "      <td>1959.000000</td>\n",
              "      <td>35303.000000</td>\n",
              "      <td>0.000000</td>\n",
              "      <td>0.000000</td>\n",
              "      <td>24.000000</td>\n",
              "      <td>23.750000</td>\n",
              "      <td>1.000000</td>\n",
              "      <td>16.000000</td>\n",
              "      <td>3.000000</td>\n",
              "      <td>...</td>\n",
              "      <td>3.000000</td>\n",
              "      <td>0.000000</td>\n",
              "      <td>0.000000</td>\n",
              "      <td>0.000000</td>\n",
              "      <td>0.000000</td>\n",
              "      <td>0.000000</td>\n",
              "      <td>0.000000</td>\n",
              "      <td>3.0</td>\n",
              "      <td>11.0</td>\n",
              "      <td>0.000000</td>\n",
              "    </tr>\n",
              "    <tr>\n",
              "      <th>50%</th>\n",
              "      <td>5458.500000</td>\n",
              "      <td>1970.000000</td>\n",
              "      <td>51381.500000</td>\n",
              "      <td>0.000000</td>\n",
              "      <td>0.000000</td>\n",
              "      <td>49.000000</td>\n",
              "      <td>173.500000</td>\n",
              "      <td>8.000000</td>\n",
              "      <td>67.000000</td>\n",
              "      <td>12.000000</td>\n",
              "      <td>...</td>\n",
              "      <td>6.000000</td>\n",
              "      <td>0.000000</td>\n",
              "      <td>0.000000</td>\n",
              "      <td>0.000000</td>\n",
              "      <td>0.000000</td>\n",
              "      <td>0.000000</td>\n",
              "      <td>0.000000</td>\n",
              "      <td>3.0</td>\n",
              "      <td>11.0</td>\n",
              "      <td>0.000000</td>\n",
              "    </tr>\n",
              "    <tr>\n",
              "      <th>75%</th>\n",
              "      <td>8427.750000</td>\n",
              "      <td>1977.000000</td>\n",
              "      <td>68522.000000</td>\n",
              "      <td>1.000000</td>\n",
              "      <td>1.000000</td>\n",
              "      <td>74.000000</td>\n",
              "      <td>504.250000</td>\n",
              "      <td>33.000000</td>\n",
              "      <td>232.000000</td>\n",
              "      <td>50.000000</td>\n",
              "      <td>...</td>\n",
              "      <td>7.000000</td>\n",
              "      <td>0.000000</td>\n",
              "      <td>0.000000</td>\n",
              "      <td>0.000000</td>\n",
              "      <td>0.000000</td>\n",
              "      <td>0.000000</td>\n",
              "      <td>0.000000</td>\n",
              "      <td>3.0</td>\n",
              "      <td>11.0</td>\n",
              "      <td>0.000000</td>\n",
              "    </tr>\n",
              "    <tr>\n",
              "      <th>max</th>\n",
              "      <td>11191.000000</td>\n",
              "      <td>1996.000000</td>\n",
              "      <td>666666.000000</td>\n",
              "      <td>2.000000</td>\n",
              "      <td>2.000000</td>\n",
              "      <td>99.000000</td>\n",
              "      <td>1493.000000</td>\n",
              "      <td>199.000000</td>\n",
              "      <td>1725.000000</td>\n",
              "      <td>259.000000</td>\n",
              "      <td>...</td>\n",
              "      <td>20.000000</td>\n",
              "      <td>1.000000</td>\n",
              "      <td>1.000000</td>\n",
              "      <td>1.000000</td>\n",
              "      <td>1.000000</td>\n",
              "      <td>1.000000</td>\n",
              "      <td>1.000000</td>\n",
              "      <td>3.0</td>\n",
              "      <td>11.0</td>\n",
              "      <td>1.000000</td>\n",
              "    </tr>\n",
              "  </tbody>\n",
              "</table>\n",
              "<p>8 rows × 26 columns</p>\n",
              "</div>"
            ],
            "text/plain": [
              "                 ID   Year_Birth         Income      Kidhome     Teenhome  \\\n",
              "count   2240.000000  2240.000000    2216.000000  2240.000000  2240.000000   \n",
              "mean    5592.159821  1968.805804   52247.251354     0.444196     0.506250   \n",
              "std     3246.662198    11.984069   25173.076661     0.538398     0.544538   \n",
              "min        0.000000  1893.000000    1730.000000     0.000000     0.000000   \n",
              "25%     2828.250000  1959.000000   35303.000000     0.000000     0.000000   \n",
              "50%     5458.500000  1970.000000   51381.500000     0.000000     0.000000   \n",
              "75%     8427.750000  1977.000000   68522.000000     1.000000     1.000000   \n",
              "max    11191.000000  1996.000000  666666.000000     2.000000     2.000000   \n",
              "\n",
              "           Recency     MntWines    MntFruits  MntMeatProducts  \\\n",
              "count  2240.000000  2240.000000  2240.000000      2240.000000   \n",
              "mean     49.109375   303.935714    26.302232       166.950000   \n",
              "std      28.962453   336.597393    39.773434       225.715373   \n",
              "min       0.000000     0.000000     0.000000         0.000000   \n",
              "25%      24.000000    23.750000     1.000000        16.000000   \n",
              "50%      49.000000   173.500000     8.000000        67.000000   \n",
              "75%      74.000000   504.250000    33.000000       232.000000   \n",
              "max      99.000000  1493.000000   199.000000      1725.000000   \n",
              "\n",
              "       MntFishProducts  ...  NumWebVisitsMonth  AcceptedCmp3  AcceptedCmp4  \\\n",
              "count      2240.000000  ...        2240.000000   2240.000000   2240.000000   \n",
              "mean         37.525446  ...           5.316518      0.072768      0.074554   \n",
              "std          54.628979  ...           2.426645      0.259813      0.262728   \n",
              "min           0.000000  ...           0.000000      0.000000      0.000000   \n",
              "25%           3.000000  ...           3.000000      0.000000      0.000000   \n",
              "50%          12.000000  ...           6.000000      0.000000      0.000000   \n",
              "75%          50.000000  ...           7.000000      0.000000      0.000000   \n",
              "max         259.000000  ...          20.000000      1.000000      1.000000   \n",
              "\n",
              "       AcceptedCmp5  AcceptedCmp1  AcceptedCmp2     Complain  Z_CostContact  \\\n",
              "count   2240.000000   2240.000000   2240.000000  2240.000000         2240.0   \n",
              "mean       0.072768      0.064286      0.013393     0.009375            3.0   \n",
              "std        0.259813      0.245316      0.114976     0.096391            0.0   \n",
              "min        0.000000      0.000000      0.000000     0.000000            3.0   \n",
              "25%        0.000000      0.000000      0.000000     0.000000            3.0   \n",
              "50%        0.000000      0.000000      0.000000     0.000000            3.0   \n",
              "75%        0.000000      0.000000      0.000000     0.000000            3.0   \n",
              "max        1.000000      1.000000      1.000000     1.000000            3.0   \n",
              "\n",
              "       Z_Revenue     Response  \n",
              "count     2240.0  2240.000000  \n",
              "mean        11.0     0.149107  \n",
              "std          0.0     0.356274  \n",
              "min         11.0     0.000000  \n",
              "25%         11.0     0.000000  \n",
              "50%         11.0     0.000000  \n",
              "75%         11.0     0.000000  \n",
              "max         11.0     1.000000  \n",
              "\n",
              "[8 rows x 26 columns]"
            ]
          },
          "execution_count": 3,
          "metadata": {},
          "output_type": "execute_result"
        }
      ],
      "source": [
        "#Information on features\n",
        "data.info()\n",
        "data.describe()"
      ]
    },
    {
      "cell_type": "markdown",
      "metadata": {
        "id": "tgqEYVwAEXvl"
      },
      "source": [
        "\n",
        "\n",
        "---\n",
        "\n"
      ]
    },
    {
      "cell_type": "markdown",
      "metadata": {
        "id": "wvAmQYEnEZ4U"
      },
      "source": [
        "> Q0. Generate Y - Predictor Value"
      ]
    },
    {
      "cell_type": "code",
      "execution_count": 4,
      "metadata": {
        "id": "Cd5Yx9sg2JE5"
      },
      "outputs": [],
      "source": [
        "#@title Q0. Generate Y - Predictor Value\n",
        "## Before Proceeding, You may want to evaluate the Y -Predictor Value first\n",
        "## By combining Y = AcceptedCmp1 + AcceptedCmp2 + AcceptedCmp3 + AcceptedCmp4 + AcceptedCmp5 + Response\n",
        "\n",
        "data['Y'] = data['AcceptedCmp1'] + data['AcceptedCmp2'] + data['AcceptedCmp3'] + data['AcceptedCmp4'] + data['AcceptedCmp5'] + data['Response']"
      ]
    },
    {
      "cell_type": "markdown",
      "metadata": {
        "id": "8M0Xi6YV6tsm"
      },
      "source": [
        "#### **Step 1. Exploratory Data Analysis**\n",
        "In this step, you shall explore the data set and perform some descriptive statistics and visualizations to understand the data better. You shall also identify any potential problems or issues with the data, such as missing values, outliers, or imbalances.\n",
        "\n",
        "\n"
      ]
    },
    {
      "cell_type": "markdown",
      "metadata": {
        "id": "Hrl7J1pJEeAi"
      },
      "source": [
        "> Q1a. In whichever preferred means (tables, graphs etcs), showcase the existence of missing value, outliers & imbalances in the dataset."
      ]
    },
    {
      "cell_type": "code",
      "execution_count": 5,
      "metadata": {
        "id": "BKAqqyJT9PAW"
      },
      "outputs": [
        {
          "name": "stdout",
          "output_type": "stream",
          "text": [
            "Missing Value in Dataset: 24\n"
          ]
        },
        {
          "data": {
            "text/plain": [
              "Y\n",
              "0    1631\n",
              "1     370\n",
              "2     142\n",
              "3      51\n",
              "4      36\n",
              "5      10\n",
              "Name: count, dtype: int64"
            ]
          },
          "execution_count": 5,
          "metadata": {},
          "output_type": "execute_result"
        },
        {
          "data": {
            "image/png": "[encoded data removed]",
            "text/plain": [
              "<Figure size 2000x300 with 1 Axes>"
            ]
          },
          "metadata": {},
          "output_type": "display_data"
        }
      ],
      "source": [
        "#@title Q1a. In whichever preferred means (tables, graphs etcs), showcase the existence of missing value, outliers & imbalances in the dataset.\n",
        "\n",
        "# Q1a. Showcase existence of missing value, outliers & imbalances within dataset\n",
        "\n",
        "# Missing Value\n",
        "print(\"Missing Value in Dataset:\", data.isnull().sum().sum())\n",
        "\n",
        "# Outliers\n",
        "data.boxplot(figsize=(20,3), rot=90)\n",
        "\n",
        "# Imbalances\n",
        "data['Y'].value_counts()\n"
      ]
    },
    {
      "cell_type": "markdown",
      "metadata": {
        "id": "XEmE3zqiElws"
      },
      "source": [
        ">  Q1b. Handle the missing values and outliers, and explain why was that particular methodology chosen."
      ]
    },
    {
      "cell_type": "code",
      "execution_count": 6,
      "metadata": {
        "id": "qdmZMGZ69muR"
      },
      "outputs": [],
      "source": [
        "#@title Q1b. Handle the missing values and outliers, and explain why was that particular methodology chosen.\n",
        "# Q1b. Codes to handle (i) Missing Values, (ii) Outliers\n",
        "# Tips: You may refer to Slide 19 in Tutorial PPT\n",
        "\n",
        "# (i) Missing Values\n",
        "data = data.fillna(data.mean())\n",
        "\n",
        "# (ii) Outliers\n",
        "# feature clipping\n",
        "data['Income'] = data['Income'].clip(0, 100000)\n"
      ]
    },
    {
      "cell_type": "markdown",
      "metadata": {
        "id": "ArqPRjfr-DFI"
      },
      "source": [
        "> Q1c. Explain why the above methodology to handle the missing values and outliers is chosen\n",
        "\n",
        "**Answer:**\n",
        "\n",
        "| | Methodology Used | Underlying Rationale |\n",
        "|--|--|--|\n",
        "|Handling Outliers | (Fill in the blank) | (Fill in the blank) |\n",
        "|Handling Missing Values| (Fill in the blank) | (Fill in the blank) |\n"
      ]
    },
    {
      "cell_type": "markdown",
      "metadata": {
        "id": "0I-t7zfSEt0w"
      },
      "source": [
        ">  Q1d. Plot 3 or more types of charts over all columns of data"
      ]
    },
    {
      "cell_type": "code",
      "execution_count": 7,
      "metadata": {
        "id": "fNHy-iRD_f7M"
      },
      "outputs": [],
      "source": [
        "#@title Q1d. Plot 3 or more types of charts over all columns of data\n",
        "# Q1d. Exploratory Data Analysis Graph Plotting\n",
        "\n",
        "# import xxx as xxx (Import Graphing Libraries)\n",
        "# ....\n",
        "# plt.show()"
      ]
    },
    {
      "cell_type": "markdown",
      "metadata": {
        "id": "i3iuvIeF9lvW"
      },
      "source": [
        "> Q1e. Describe 3 observed patterns/ anomalies, and explain how would you plan/change your approach in upcoming data preparation/modeling based on the observations"
      ]
    },
    {
      "cell_type": "markdown",
      "metadata": {
        "id": "I2k9AtCD_2UV"
      },
      "source": [
        "**Answer:**\n",
        "\n",
        "| | Pattern/Anomalies Observed | Respective Insights based on Observation |\n",
        "|--|--|--|\n",
        "| Pattern 1 | (Fill in the blank) | (Fill in the blank) |\n",
        "| Pattern 2 | (Fill in the blank) | (Fill in the blank) |\n",
        "| Pattern 3 | (Fill in the blank) | (Fill in the blank) |\n"
      ]
    },
    {
      "cell_type": "markdown",
      "metadata": {
        "id": "7cuZ4d7SAflk"
      },
      "source": [
        "\n",
        "\n",
        "--------\n",
        "\n"
      ]
    },
    {
      "cell_type": "markdown",
      "metadata": {
        "id": "gEV_tKMp6wIz"
      },
      "source": [
        "#### **Step 2. Data Preparation**\n",
        "In this step, you will prepare the data for modeling by applying appropriate techniques such as data cleaning, feature engineering, feature selection, and data transformation. You will also split the data into training and testing sets."
      ]
    },
    {
      "cell_type": "markdown",
      "metadata": {
        "id": "PRhjLuq0EYzW"
      },
      "source": [
        "> Q2a. Identify Data Type of Each Column & Respective Data Preprocessing Methods\n",
        "- **Type:** Nominal | Ordinal | Discrete | Continuous\n",
        "- **Data Preprocessing Method:** One Hot Encoding | Rank Replacement | Normalization | Missing Data | Outlier | Feature Engineer | Data Balancing\n",
        "\n",
        "**Answer:**\n",
        "\n",
        "| Column | Data Type | Data Preprocessing |\n",
        "|--|--|--|\n",
        "ID                 | (Fill in the blank) | (Fill in the blank) |\n",
        "Year_Birth         | (Fill in the blank) | (Fill in the blank) |      \n",
        "Education          | (Fill in the blank) | (Fill in the blank) |       \n",
        "Marital_Status     | (Fill in the blank) | (Fill in the blank) |\n",
        "Income             | (Fill in the blank) | (Fill in the blank) |      \n",
        "Kidhome            | (Fill in the blank) | (Fill in the blank) |        \n",
        "Teenhome           | (Fill in the blank) | (Fill in the blank) |   \n",
        "Dt_Customer        | (Fill in the blank) | (Fill in the blank) |      \n",
        "Recency            | (Fill in the blank) | (Fill in the blank) |     \n",
        "MntWines           | (Fill in the blank) | (Fill in the blank) |    \n",
        "MntFruits          | (Fill in the blank) | (Fill in the blank) |    \n",
        "MntMeatProducts    | (Fill in the blank) | (Fill in the blank) |     \n",
        "MntFishProducts    | (Fill in the blank) | (Fill in the blank) |    \n",
        "MntSweetProducts   | (Fill in the blank) | (Fill in the blank) |    \n",
        "MntGoldProds       | (Fill in the blank) | (Fill in the blank) |\n",
        "NumDealsPurchases  | (Fill in the blank) | (Fill in the blank) |  \n",
        "NumWebPurchases    | (Fill in the blank) | (Fill in the blank) |\n",
        "NumCatalogPurchases| (Fill in the blank) | (Fill in the blank) |\n",
        "NumStorePurchases  | (Fill in the blank) | (Fill in the blank) |  \n",
        "NumWebVisitsMonth  | (Fill in the blank) | (Fill in the blank) |  \n",
        "AcceptedCmp3       | (Fill in the blank) | (Fill in the blank) |  \n",
        "AcceptedCmp4       | (Fill in the blank) | (Fill in the blank) |       \n",
        "AcceptedCmp5       | (Fill in the blank) | (Fill in the blank) |       \n",
        "AcceptedCmp1       | (Fill in the blank) | (Fill in the blank) |       \n",
        "AcceptedCmp2       | (Fill in the blank) | (Fill in the blank) |       \n",
        "Complain           | (Fill in the blank) | (Fill in the blank) |       \n",
        "Z_CostContact      | (Fill in the blank) | (Fill in the blank) |     \n",
        "Z_Revenue          | (Fill in the blank) | (Fill in the blank) |          \n",
        "Response           | (Fill in the blank) | (Fill in the blank) |\n"
      ]
    },
    {
      "cell_type": "markdown",
      "metadata": {
        "id": "0UXwuT2XEzR_"
      },
      "source": [
        ">  Q2b. Perform the aforementioned Data Preprocessings"
      ]
    },
    {
      "cell_type": "code",
      "execution_count": 8,
      "metadata": {
        "id": "-V1lzNHjEYzW"
      },
      "outputs": [],
      "source": [
        "#@title Q2b. Perform the aforementioned Data Preprocessings\n",
        "# Q2b. Preform Data Preprocessing\n",
        "\n",
        "# import xxx as xxx (Import panda Libraries)\n",
        "# from sklearn.preprocessing import xxx (Import sklearn libraries)\n",
        "# ....\n",
        "#"
      ]
    },
    {
      "cell_type": "markdown",
      "metadata": {
        "id": "JTbt5hqvI71-"
      },
      "source": [
        "\n",
        "\n",
        "---\n",
        "\n"
      ]
    },
    {
      "cell_type": "markdown",
      "metadata": {
        "id": "1DV82u_T6x22"
      },
      "source": [
        "#### **Step 3. Modeling**\n",
        "In this step, you will choose and apply one or more machine learning algorithms to build predictive models using the training data."
      ]
    },
    {
      "cell_type": "markdown",
      "metadata": {
        "id": "n_M-ekvDE0kP"
      },
      "source": [
        ">  Q3a. Generate Test/Training Data Split"
      ]
    },
    {
      "cell_type": "code",
      "execution_count": 9,
      "metadata": {
        "id": "8nX-LkfM6zJV"
      },
      "outputs": [],
      "source": [
        "#@title Q3a. Generate Test/Training Data Split\n",
        "# Q3a. Generate Test / Training Data Split\n",
        "\n",
        "from sklearn.model_selection import train_test_split # Import Train Test Split From Libraries\n",
        "# ....."
      ]
    },
    {
      "cell_type": "markdown",
      "metadata": {
        "id": "v48YCTltE1EG"
      },
      "source": [
        "> Q3b. Choose and deploy dataset to 3+ ML Model"
      ]
    },
    {
      "cell_type": "code",
      "execution_count": 10,
      "metadata": {
        "id": "Di4eJmXi4OuQ"
      },
      "outputs": [],
      "source": [
        "#@title Q3b. Choose and deploy dataset to 3+ ML Model\n",
        "# Q3b. Choose 3 models to deploy dataset to\n",
        "# Tips: Do not afraid to test out various models, to find out which model fits the datasets the best\n",
        "\n",
        "# Step 1. Import Model\n",
        "\n",
        "# Step 2. Fit Dataframe into Model\n",
        "\n",
        "# Step 3. Generate Model Prediction (Y)"
      ]
    },
    {
      "cell_type": "markdown",
      "metadata": {
        "id": "yUnJRs_w8zSd"
      },
      "source": [
        "\n",
        "\n",
        "---\n",
        "\n"
      ]
    },
    {
      "cell_type": "markdown",
      "metadata": {
        "id": "IJzoXAZL6zcV"
      },
      "source": [
        "#### **Step 4. Evaluation**\n",
        "In this step, you will evaluate the performance of the models using various metrics and techniques, such as accuracy, precision, recall, F1-score, confusion matrix, ROC curve, etc. You will also compare the results of different models and select the best one.\n"
      ]
    },
    {
      "cell_type": "markdown",
      "metadata": {
        "id": "QfQFdV577Bmr"
      },
      "source": [
        "> Q4a. Evaluate the models accuracy by calculating / plotting the following\n",
        "1. Confusion Matrix\n",
        "2. Accuracy Score, Recall Score, Precision Score, AUC Score & F1 Score\n",
        "3. Plot the ROC Curve"
      ]
    },
    {
      "cell_type": "code",
      "execution_count": 11,
      "metadata": {
        "id": "mtX4rq0166LA"
      },
      "outputs": [],
      "source": [
        "#@title Q4a. Evaluate the Model's Accuracy\n",
        "\n",
        "# from sklearn.metrics import precision_score, recall_score, f1_score, accuracy_score ...\n",
        "# print(xxxx)"
      ]
    },
    {
      "cell_type": "markdown",
      "metadata": {
        "id": "2ZuQjdrk8gpQ"
      },
      "source": [
        "> Q4b. After Evaluation, Please indicate which model would you eventually pursue & the underlying rationale"
      ]
    },
    {
      "cell_type": "markdown",
      "metadata": {
        "id": "Dvhd4cPV8IrR"
      },
      "source": [
        "**Answer:**\n",
        "\n",
        "I choose Model [XXX] because [xxxx...]"
      ]
    },
    {
      "cell_type": "markdown",
      "metadata": {
        "id": "x3BI2Bdc80sz"
      },
      "source": [
        "\n",
        "\n",
        "---\n",
        "\n"
      ]
    },
    {
      "cell_type": "markdown",
      "metadata": {
        "id": "dnrFl0sS603D"
      },
      "source": [
        "#### **Step 5. Optimization**\n",
        "In this step, you will try to improve the performance of the best model by applying some advanced techniques such as hyperparameter tuning, K-fold Cross Validation, ensemble methods, etc."
      ]
    },
    {
      "cell_type": "markdown",
      "metadata": {
        "id": "9HnDVs3iE6Et"
      },
      "source": [
        ">  Q5a. Attempt Manual Hyperparameter Tuning & Observe how it affects the accuracy score"
      ]
    },
    {
      "cell_type": "code",
      "execution_count": 12,
      "metadata": {
        "id": "3wDVa0a88xbZ"
      },
      "outputs": [],
      "source": [
        "#@title Q5a. Attempt Manual Hyperparameter Tuning & Observe how it affects the accuracy score\n",
        "\n",
        "# Step 1. Head to the library that you sourced your pre-trained models from, and look at what hyperparameters are available for tuning\n",
        "\n",
        "# Step 2. Try and Test out various combinations to observe the minor differences hyper-parameter tuning makes\n",
        "\n",
        "# Step 3. Re-use the code in Part 4, to observe the changes in accuracy score"
      ]
    },
    {
      "cell_type": "markdown",
      "metadata": {
        "id": "izh455akE7j4"
      },
      "source": [
        ">  Q5b. Attempt K-fold Cross Validation to find the best Hyperparameter & Observe how it affects the accuracy score"
      ]
    },
    {
      "cell_type": "code",
      "execution_count": 13,
      "metadata": {
        "id": "ToEt43VX9iKF"
      },
      "outputs": [],
      "source": [
        "#@title Q5b. Attempt K-fold Cross Validation to find the best Hyperparameter & Observe how it affects the accuracy score\n",
        "\n",
        "# Step 1. Import K-fold Cross Validation Libraries\n",
        "# from sklearn.model_selection import cross_val_score\n",
        "\n",
        "# Step 2. Generate Cross-validation grid containing various combination of hyper-parameter (Tips: Check Slide 48 in Tutorial PPT)\n",
        "\n",
        "# Step 3. Re-use the code in Part 4, to observe the changes in accuracy score"
      ]
    },
    {
      "cell_type": "markdown",
      "metadata": {
        "id": "PQElrIWdE8A6"
      },
      "source": [
        ">  Q5c. Attempt one of the 3 ensemble methods & Observe how it affects the accuracy score"
      ]
    },
    {
      "cell_type": "code",
      "execution_count": 14,
      "metadata": {
        "id": "XhTs5crW9p5G"
      },
      "outputs": [],
      "source": [
        "#@title Q5c. Attempt one of the 3 ensemble methods & Observe how it affects the accuracy score\n",
        "\n",
        "# Step 1. Import Relevant functions from Libraries\n",
        "# e.g. from sklearn.ensemble import BaggingClassifier\n",
        "\n",
        "# Step 2. Add ensembling methods on top of Base models\n",
        "\n",
        "# Step 3. Re-use the code in Part 4, to observe the changes in accuracy score"
      ]
    },
    {
      "cell_type": "markdown",
      "metadata": {
        "id": "KCDT_Grr_Gcl"
      },
      "source": [
        "\n",
        "\n",
        "---\n",
        "\n"
      ]
    },
    {
      "cell_type": "markdown",
      "metadata": {
        "id": "txyx9WSL62Cm"
      },
      "source": [
        "#### **Step 6. Interpretation**\n",
        "In this step, you will interpret the results of the best model and explain its predictions using some methods such as SHAP values, LIME, etc. You will also discuss the limitations and implications of the model and provide some recommendations for future work."
      ]
    },
    {
      "cell_type": "markdown",
      "metadata": {
        "id": "iKybQOfnE82v"
      },
      "source": [
        "> Q6. Plot 3+ Graph that effectively explain insights that you uncovered about the trained model, comment to describe the insight that was uncovered."
      ]
    },
    {
      "cell_type": "code",
      "execution_count": 15,
      "metadata": {
        "id": "wruLZlC4AaH4"
      },
      "outputs": [],
      "source": [
        "#@title Q6. Plot 3+ Graph that effectively explain insights that you uncovered about the trained model, comment to describe the insight that was uncovered.\n",
        "\n",
        "# Step 1. Import Graph Plotting Libraries (if any)\n",
        "# ...\n",
        "# plt.show()"
      ]
    },
    {
      "cell_type": "markdown",
      "metadata": {
        "id": "vScrJ6cdAkMB"
      },
      "source": [
        "\n",
        "\n",
        "---\n",
        "\n"
      ]
    },
    {
      "cell_type": "markdown",
      "metadata": {
        "id": "1z3WzdRyAlT8"
      },
      "source": [
        "#### **Step 7. Machine Learning Dashboard**\n",
        "In this section of the assignment, you will showcase your findings and insights from your Machine Learning project by building an interactive and visually appealing dashboard.\n",
        "\n",
        "\n",
        "Transform Graphs that you generated in\n",
        "1. Part 1d - Exploratory Data Analysis\n",
        "2. Part 4a - Model's Evaluation\n",
        "3. Part 6 - Model's Insight Generation\n",
        "\n",
        "into a web-based dashboard.\n",
        "\n",
        "(For reference - Dashboard Example: https://explainerdashboard.readthedocs.io/en/latest/)\n",
        "\n"
      ]
    }
  ],
  "metadata": {
    "colab": {
      "provenance": [],
      "toc_visible": true
    },
    "kernelspec": {
      "display_name": "Python 3",
      "name": "python3"
    },
    "language_info": {
      "codemirror_mode": {
        "name": "ipython",
        "version": 3
      },
      "file_extension": ".py",
      "mimetype": "text/x-python",
      "name": "python",
      "nbconvert_exporter": "python",
      "pygments_lexer": "ipython3",
      "version": "3.11.3"
    }
  },
  "nbformat": 4,
  "nbformat_minor": 0
}
